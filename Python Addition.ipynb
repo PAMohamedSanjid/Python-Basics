{
  "nbformat": 4,
  "nbformat_minor": 0,
  "metadata": {
    "colab": {
      "provenance": []
    },
    "kernelspec": {
      "name": "python3",
      "display_name": "Python 3"
    },
    "language_info": {
      "name": "python"
    }
  },
  "cells": [
    {
      "cell_type": "code",
      "execution_count": 1,
      "metadata": {
        "colab": {
          "base_uri": "https://localhost:8080/"
        },
        "id": "3OFiMHNokT_F",
        "outputId": "0c07faa9-85fe-47da-9e8d-5f11a51c394a"
      },
      "outputs": [
        {
          "output_type": "stream",
          "name": "stdout",
          "text": [
            "The sum of 5 and 5 is 10\n"
          ]
        }
      ],
      "source": [
        "num1 = 5\n",
        "num2 = 5\n",
        "sum = num1 + num2\n",
        "print('The sum of {0} and {1} is {2}'.format(num1, num2, sum))\n"
      ]
    },
    {
      "cell_type": "code",
      "source": [
        "num1 = 5\n",
        "num2 = 10\n",
        "sum = num1 + num2\n",
        "print('The sum of {0} and {1} is {2}'.format(num1, num2, sum))\n"
      ],
      "metadata": {
        "colab": {
          "base_uri": "https://localhost:8080/"
        },
        "id": "HZ_ptOZtkYVy",
        "outputId": "d95fecc5-848c-4c4d-8212-188fb3fb7fef"
      },
      "execution_count": 2,
      "outputs": [
        {
          "output_type": "stream",
          "name": "stdout",
          "text": [
            "The sum of 5 and 10 is 15\n"
          ]
        }
      ]
    }
  ]
}